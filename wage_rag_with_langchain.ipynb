{
 "cells": [
  {
   "cell_type": "markdown",
   "metadata": {},
   "source": [
    "# RAG with Langchain을 이용한 근로기준법 AI 챗봇"
   ]
  },
  {
   "cell_type": "markdown",
   "metadata": {
    "vscode": {
     "languageId": "plaintext"
    }
   },
   "source": [
    "## 1. 근로기준법 문서를 불러와서 split 하기"
   ]
  },
  {
   "cell_type": "code",
   "execution_count": 99,
   "metadata": {},
   "outputs": [],
   "source": [
    "from langchain_community.document_loaders import Docx2txtLoader\n",
    "from langchain_text_splitters import RecursiveCharacterTextSplitter\n",
    "\n",
    "text_splitter = RecursiveCharacterTextSplitter(\n",
    "    chunk_size = 1000,\n",
    "    chunk_overlap = 200,\n",
    ")\n",
    "\n",
    "loader = Docx2txtLoader('./wage_raw.docx')\n",
    "\n",
    "splitted_chunks = loader.load_and_split(text_splitter=text_splitter)"
   ]
  },
  {
   "cell_type": "code",
   "execution_count": null,
   "metadata": {},
   "outputs": [],
   "source": [
    "splitted_chunks"
   ]
  },
  {
   "cell_type": "markdown",
   "metadata": {},
   "source": [
    "## 2. split한 chunk들을 embedding 하기"
   ]
  },
  {
   "cell_type": "code",
   "execution_count": 11,
   "metadata": {},
   "outputs": [
    {
     "data": {
      "text/plain": [
       "True"
      ]
     },
     "execution_count": 11,
     "metadata": {},
     "output_type": "execute_result"
    }
   ],
   "source": [
    "from dotenv import load_dotenv\n",
    "\n",
    "load_dotenv()"
   ]
  },
  {
   "cell_type": "code",
   "execution_count": 3,
   "metadata": {},
   "outputs": [],
   "source": [
    "from langchain_upstage import UpstageEmbeddings\n",
    "\n",
    "embedding = UpstageEmbeddings(\n",
    "   model=\"embedding-query\"\n",
    ")"
   ]
  },
  {
   "cell_type": "code",
   "execution_count": 101,
   "metadata": {},
   "outputs": [],
   "source": [
    "# 현재 doc를 chroma database에 embedding하여 저장하기 \n",
    "from langchain_chroma import Chroma\n",
    "\n",
    "#doc -> embedding해서 수치화한 것을 chroma DB에 저장하기\n",
    "database = Chroma.from_documents(documents=splitted_chunks, embedding=embedding, collection_name='chroma-wage', persist_directory='./chroma')"
   ]
  },
  {
   "cell_type": "code",
   "execution_count": 5,
   "metadata": {},
   "outputs": [],
   "source": [
    "from langchain_chroma import Chroma\n",
    "\n",
    "database = Chroma(collection_name='chroma-wage', persist_directory='./chroma', embedding_function=embedding)"
   ]
  },
  {
   "cell_type": "markdown",
   "metadata": {},
   "source": [
    "# 3. 현재 질문에 대해 유사한 문서 가져오기 (Cosine Similarity)"
   ]
  },
  {
   "cell_type": "code",
   "execution_count": 90,
   "metadata": {},
   "outputs": [],
   "source": [
    "query = '근로계약서를 작성하지 않아도 되나요?'"
   ]
  },
  {
   "cell_type": "code",
   "execution_count": 102,
   "metadata": {},
   "outputs": [],
   "source": [
    "retrieved_docs = database.similarity_search(query, k=2)"
   ]
  },
  {
   "cell_type": "code",
   "execution_count": 103,
   "metadata": {},
   "outputs": [
    {
     "data": {
      "text/plain": [
       "[Document(metadata={'source': './wage_raw.docx'}, page_content='② 사용자는 제1항에 따른 대통령령 중 기숙사에 관한 규정과 제99조제1항에 따른 기숙사규칙을 기숙사에 게시하거나 갖추어 두어 기숙(寄宿)하는 근로자에게 널리 알려야 한다.\\n\\n[제목개정 2021. 1. 5.]\\n\\n\\n\\n제2장 근로계약\\n\\n\\n\\n제15조(이 법을 위반한 근로계약) ① 이 법에서 정하는 기준에 미치지 못하는 근로조건을 정한 근로계약은 그 부분에 한정하여 무효로 한다. <개정 2020. 5. 26.>\\n\\n② 제1항에 따라 무효로 된 부분은 이 법에서 정한 기준에 따른다.\\n\\n\\n\\n제16조(계약기간) 근로계약은 기간을 정하지 아니한 것과 일정한 사업의 완료에 필요한 기간을 정한 것 외에는 그 기간은 1년을 초과하지 못한다.\\n\\n[법률 제8372호(2007. 4. 11.) 제16조의 개정규정은 같은 법 부칙 제3조의 규정에 의하여 2007년 6월 30일까지 유효함]\\n\\n\\n\\n제17조(근로조건의 명시) ① 사용자는 근로계약을 체결할 때에 근로자에게 다음 각 호의 사항을 명시하여야 한다. 근로계약 체결 후 다음 각 호의 사항을 변경하는 경우에도 또한 같다. <개정 2010. 5. 25.>\\n\\n1. 임금\\n\\n2. 소정근로시간\\n\\n3. 제55조에 따른 휴일\\n\\n4. 제60조에 따른 연차 유급휴가\\n\\n5. 그 밖에 대통령령으로 정하는 근로조건\\n\\n② 사용자는 제1항제1호와 관련한 임금의 구성항목ㆍ계산방법ㆍ지급방법 및 제2호부터 제4호까지의 사항이 명시된 서면(「전자문서 및 전자거래 기본법」 제2조제1호에 따른 전자문서를 포함한다)을 근로자에게 교부하여야 한다. 다만, 본문에 따른 사항이 단체협약 또는 취업규칙의 변경 등 대통령령으로 정하는 사유로 인하여 변경되는 경우에는 근로자의 요구가 있으면 그 근로자에게 교부하여야 한다.<신설 2010. 5. 25., 2021. 1. 5.>\\n\\n\\n\\n제18조(단시간근로자의 근로조건) ① 단시간근로자의 근로조건은 그 사업장의 같은 종류의 업무에 종사하는 통상 근로자의 근로시간을 기준으로 산정한 비율에 따라 결정되어야 한다.\\n\\n② 제1항에 따라 근로조건을 결정할 때에 기준이 되는 사항이나 그 밖에 필요한 사항은 대통령령으로 정한다.\\n\\n③ 4주 동안(4주 미만으로 근로하는 경우에는 그 기간)을 평균하여 1주 동안의 소정근로시간이 15시간 미만인 근로자에 대하여는 제55조와 제60조를 적용하지 아니한다.<개정 2008. 3. 21.>\\n\\n\\n\\n제19조(근로조건의 위반) ① 제17조에 따라 명시된 근로조건이 사실과 다를 경우에 근로자는 근로조건 위반을 이유로 손해의 배상을 청구할 수 있으며 즉시 근로계약을 해제할 수 있다.\\n\\n② 제1항에 따라 근로자가 손해배상을 청구할 경우에는 노동위원회에 신청할 수 있으며, 근로계약이 해제되었을 경우에는 사용자는 취업을 목적으로 거주를 변경하는 근로자에게 귀향 여비를 지급하여야 한다.\\n\\n\\n\\n제20조(위약 예정의 금지) 사용자는 근로계약 불이행에 대한 위약금 또는 손해배상액을 예정하는 계약을 체결하지 못한다.'),\n",
       " Document(metadata={'source': './wage_raw.docx'}, page_content='1. 임금\\n\\n2. 소정근로시간\\n\\n3. 제55조에 따른 휴일\\n\\n4. 제60조에 따른 연차 유급휴가\\n\\n5. 그 밖에 대통령령으로 정하는 근로조건\\n\\n② 사용자는 제1항제1호와 관련한 임금의 구성항목ㆍ계산방법ㆍ지급방법 및 제2호부터 제4호까지의 사항이 명시된 서면(「전자문서 및 전자거래 기본법」 제2조제1호에 따른 전자문서를 포함한다)을 근로자에게 교부하여야 한다. 다만, 본문에 따른 사항이 단체협약 또는 취업규칙의 변경 등 대통령령으로 정하는 사유로 인하여 변경되는 경우에는 근로자의 요구가 있으면 그 근로자에게 교부하여야 한다.<신설 2010. 5. 25., 2021. 1. 5.>\\n\\n\\n\\n제18조(단시간근로자의 근로조건) ① 단시간근로자의 근로조건은 그 사업장의 같은 종류의 업무에 종사하는 통상 근로자의 근로시간을 기준으로 산정한 비율에 따라 결정되어야 한다.\\n\\n② 제1항에 따라 근로조건을 결정할 때에 기준이 되는 사항이나 그 밖에 필요한 사항은 대통령령으로 정한다.\\n\\n③ 4주 동안(4주 미만으로 근로하는 경우에는 그 기간)을 평균하여 1주 동안의 소정근로시간이 15시간 미만인 근로자에 대하여는 제55조와 제60조를 적용하지 아니한다.<개정 2008. 3. 21.>\\n\\n\\n\\n제19조(근로조건의 위반) ① 제17조에 따라 명시된 근로조건이 사실과 다를 경우에 근로자는 근로조건 위반을 이유로 손해의 배상을 청구할 수 있으며 즉시 근로계약을 해제할 수 있다.\\n\\n② 제1항에 따라 근로자가 손해배상을 청구할 경우에는 노동위원회에 신청할 수 있으며, 근로계약이 해제되었을 경우에는 사용자는 취업을 목적으로 거주를 변경하는 근로자에게 귀향 여비를 지급하여야 한다.\\n\\n\\n\\n제20조(위약 예정의 금지) 사용자는 근로계약 불이행에 대한 위약금 또는 손해배상액을 예정하는 계약을 체결하지 못한다.\\n\\n\\n\\n제21조(전차금 상계의 금지) 사용자는 전차금(前借金)이나 그 밖에 근로할 것을 조건으로 하는 전대(前貸)채권과 임금을 상계하지 못한다.')]"
      ]
     },
     "execution_count": 103,
     "metadata": {},
     "output_type": "execute_result"
    }
   ],
   "source": [
    "retrieved_docs"
   ]
  },
  {
   "cell_type": "code",
   "execution_count": null,
   "metadata": {},
   "outputs": [],
   "source": [
    "print(retrieved_docs[0].page_content)"
   ]
  },
  {
   "cell_type": "markdown",
   "metadata": {},
   "source": [
    "# 4. 유사한 문서와 질문을 바탕으로 LLM에 질의하기"
   ]
  },
  {
   "cell_type": "code",
   "execution_count": 43,
   "metadata": {},
   "outputs": [],
   "source": [
    "from langchain_upstage import ChatUpstage\n",
    "\n",
    "llm = ChatUpstage()"
   ]
  },
  {
   "cell_type": "code",
   "execution_count": 94,
   "metadata": {},
   "outputs": [],
   "source": [
    "from langchain_upstage import ChatUpstage\n",
    "\n",
    "llm = ChatUpstage()\n",
    "ai_message = llm.invoke(query)"
   ]
  },
  {
   "cell_type": "code",
   "execution_count": 95,
   "metadata": {},
   "outputs": [
    {
     "data": {
      "text/plain": [
       "'근로계약서는 근로자와 사용자 간의 근로관계를 명확히 하고, 근로조건과 근로계약 내용을 문서로 기록하는 것이 좋습니다. 근로계약서를 작성하지 않아도 법적으로 문제가 되지 않지만, 근로계약서를 작성하면 추후에 발생할 수 있는 분쟁을 예방하고, 근로조건과 근로계약 내용을 명확히 할 수 있습니다. 따라서, 근로계약서를 작성하는 것이 좋습니다.'"
      ]
     },
     "execution_count": 95,
     "metadata": {},
     "output_type": "execute_result"
    }
   ],
   "source": [
    "ai_message.content"
   ]
  },
  {
   "cell_type": "code",
   "execution_count": null,
   "metadata": {},
   "outputs": [],
   "source": [
    "from langchain import hub\n",
    "from langchain.chains import RetrievalQA\n",
    "\n",
    "prompt = hub.pull(\"rlm/rag-prompt\")\n",
    "\n",
    "qa_chain = RetrievalQA.from_chain_type(\n",
    "    llm,\n",
    "    retriever=database.as_retriever(k=2),\n",
    "    chain_type_kwargs = {\"prompt\":prompt}\n",
    ")"
   ]
  },
  {
   "cell_type": "code",
   "execution_count": 97,
   "metadata": {},
   "outputs": [],
   "source": [
    "result = qa_chain.invoke({\"query\": query+\" 가능하다면 관련 조항도 보여주세요.\"})"
   ]
  },
  {
   "cell_type": "code",
   "execution_count": 98,
   "metadata": {},
   "outputs": [
    {
     "data": {
      "text/plain": [
       "{'query': '근로계약서를 작성하지 않아도 되나요? 가능하다면 관련 조항도 보여주세요.',\n",
       " 'result': '근로계약서 작성은 필수입니다. 근로기준법 제17조에 따르면, 사용자는 근로계약을 체결할 때 근로자에게 임금, 소정근로시간, 휴일, 연차유급휴가, 그 밖에 대통령령으로 정하는 근로조건을 명시해야 합니다. 이를 위반하면 500만원 이하의 벌금에 처해질 수 있습니다.'}"
      ]
     },
     "execution_count": 98,
     "metadata": {},
     "output_type": "execute_result"
    }
   ],
   "source": [
    "result"
   ]
  }
 ],
 "metadata": {
  "kernelspec": {
   "display_name": "rag_study",
   "language": "python",
   "name": "python3"
  },
  "language_info": {
   "codemirror_mode": {
    "name": "ipython",
    "version": 3
   },
   "file_extension": ".py",
   "mimetype": "text/x-python",
   "name": "python",
   "nbconvert_exporter": "python",
   "pygments_lexer": "ipython3",
   "version": "3.9.20"
  }
 },
 "nbformat": 4,
 "nbformat_minor": 2
}
